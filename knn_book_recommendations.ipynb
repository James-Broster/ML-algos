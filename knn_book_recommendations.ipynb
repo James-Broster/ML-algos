{
  "cells": [
    {
      "cell_type": "markdown",
      "metadata": {
        "id": "view-in-github",
        "colab_type": "text"
      },
      "source": [
        "<a href=\"https://colab.research.google.com/github/James-Broster/ML-algos/blob/main/knn_book_recommendations.ipynb\" target=\"_parent\"><img src=\"https://colab.research.google.com/assets/colab-badge.svg\" alt=\"Open In Colab\"/></a>"
      ]
    },
    {
      "cell_type": "code",
      "execution_count": 1,
      "metadata": {
        "id": "Y1onB6kUvo4Z"
      },
      "outputs": [],
      "source": [
        "# import libraries (you may add additional imports but you may not have to)\n",
        "import numpy as np\n",
        "import pandas as pd\n",
        "from scipy.sparse import csr_matrix\n",
        "from sklearn.neighbors import NearestNeighbors\n",
        "import matplotlib.pyplot as plt"
      ]
    },
    {
      "cell_type": "code",
      "execution_count": 2,
      "metadata": {
        "id": "iAQGqqO_vo4d",
        "outputId": "23a24c43-d8c3-4779-b986-7cefaf75ea24",
        "colab": {
          "base_uri": "https://localhost:8080/"
        }
      },
      "outputs": [
        {
          "output_type": "stream",
          "name": "stdout",
          "text": [
            "--2023-07-19 12:20:36--  https://cdn.freecodecamp.org/project-data/books/book-crossings.zip\n",
            "Resolving cdn.freecodecamp.org (cdn.freecodecamp.org)... 104.26.3.33, 104.26.2.33, 172.67.70.149, ...\n",
            "Connecting to cdn.freecodecamp.org (cdn.freecodecamp.org)|104.26.3.33|:443... connected.\n",
            "HTTP request sent, awaiting response... 200 OK\n",
            "Length: 26085508 (25M) [application/zip]\n",
            "Saving to: ‘book-crossings.zip’\n",
            "\n",
            "book-crossings.zip  100%[===================>]  24.88M   145MB/s    in 0.2s    \n",
            "\n",
            "2023-07-19 12:20:37 (145 MB/s) - ‘book-crossings.zip’ saved [26085508/26085508]\n",
            "\n",
            "Archive:  book-crossings.zip\n",
            "  inflating: BX-Book-Ratings.csv     \n",
            "  inflating: BX-Books.csv            \n",
            "  inflating: BX-Users.csv            \n"
          ]
        }
      ],
      "source": [
        "# get data files\n",
        "!wget https://cdn.freecodecamp.org/project-data/books/book-crossings.zip\n",
        "\n",
        "!unzip book-crossings.zip\n",
        "\n",
        "books_filename = 'BX-Books.csv'\n",
        "ratings_filename = 'BX-Book-Ratings.csv'"
      ]
    },
    {
      "cell_type": "code",
      "execution_count": 3,
      "metadata": {
        "id": "NClILWOiEd6Q"
      },
      "outputs": [],
      "source": [
        "# import csv data into dataframes\n",
        "df_books = pd.read_csv(\n",
        "    books_filename,\n",
        "    encoding = \"ISO-8859-1\",\n",
        "    sep=\";\",\n",
        "    header=0,\n",
        "    names=['isbn', 'title', 'author'],\n",
        "    usecols=['isbn', 'title', 'author'],\n",
        "    dtype={'isbn': 'str', 'title': 'str', 'author': 'str'})\n",
        "\n",
        "df_ratings = pd.read_csv(\n",
        "    ratings_filename,\n",
        "    encoding = \"ISO-8859-1\",\n",
        "    sep=\";\",\n",
        "    header=0,\n",
        "    names=['user', 'isbn', 'rating'],\n",
        "    usecols=['user', 'isbn', 'rating'],\n",
        "    dtype={'user': 'int32', 'isbn': 'str', 'rating': 'float32'})"
      ]
    },
    {
      "cell_type": "code",
      "execution_count": 4,
      "metadata": {
        "id": "xAcXjkCFCh0A",
        "outputId": "ceddc239-a5f2-42a0-ba52-5256dbc1f76a",
        "colab": {
          "base_uri": "https://localhost:8080/"
        }
      },
      "outputs": [
        {
          "output_type": "execute_result",
          "data": {
            "text/plain": [
              "<bound method NDFrame.head of               isbn                                              title  \\\n",
              "0       0195153448                                Classical Mythology   \n",
              "1       0002005018                                       Clara Callan   \n",
              "2       0060973129                               Decision in Normandy   \n",
              "3       0374157065  Flu: The Story of the Great Influenza Pandemic...   \n",
              "4       0393045218                             The Mummies of Urumchi   \n",
              "...            ...                                                ...   \n",
              "271374  0440400988                         There's a Bat in Bunk Five   \n",
              "271375  0525447644                            From One to One Hundred   \n",
              "271376  006008667X  Lily Dale : The True Story of the Town that Ta...   \n",
              "271377  0192126040                        Republic (World's Classics)   \n",
              "271378  0767409752  A Guided Tour of Rene Descartes' Meditations o...   \n",
              "\n",
              "                      author  \n",
              "0         Mark P. O. Morford  \n",
              "1       Richard Bruce Wright  \n",
              "2               Carlo D'Este  \n",
              "3           Gina Bari Kolata  \n",
              "4            E. J. W. Barber  \n",
              "...                      ...  \n",
              "271374        Paula Danziger  \n",
              "271375            Teri Sloat  \n",
              "271376      Christine Wicker  \n",
              "271377                 Plato  \n",
              "271378   Christopher  Biffle  \n",
              "\n",
              "[271379 rows x 3 columns]>"
            ]
          },
          "metadata": {},
          "execution_count": 4
        }
      ],
      "source": [
        "# add your code here - consider creating a new cell for each section of code\n",
        "df_books.head"
      ]
    },
    {
      "cell_type": "code",
      "source": [
        "df_ratings.head"
      ],
      "metadata": {
        "id": "BOTxeALI9h7j",
        "outputId": "685d3d52-475b-4669-943b-dc4d67d6b0ed",
        "colab": {
          "base_uri": "https://localhost:8080/"
        }
      },
      "execution_count": 5,
      "outputs": [
        {
          "output_type": "execute_result",
          "data": {
            "text/plain": [
              "<bound method NDFrame.head of            user         isbn  rating\n",
              "0        276725   034545104X     0.0\n",
              "1        276726   0155061224     5.0\n",
              "2        276727   0446520802     0.0\n",
              "3        276729   052165615X     3.0\n",
              "4        276729   0521795028     6.0\n",
              "...         ...          ...     ...\n",
              "1149775  276704   1563526298     9.0\n",
              "1149776  276706   0679447156     0.0\n",
              "1149777  276709   0515107662    10.0\n",
              "1149778  276721   0590442449    10.0\n",
              "1149779  276723  05162443314     8.0\n",
              "\n",
              "[1149780 rows x 3 columns]>"
            ]
          },
          "metadata": {},
          "execution_count": 5
        }
      ]
    },
    {
      "cell_type": "code",
      "source": [
        "df_books_clean = df_books.loc[~df_books.author.isnull()]\n",
        "\n",
        "df_books_clean.head"
      ],
      "metadata": {
        "id": "6jFdOHKs9h2t",
        "colab": {
          "base_uri": "https://localhost:8080/"
        },
        "outputId": "26db7d78-7a58-49e3-93c0-e0615c035582"
      },
      "execution_count": 18,
      "outputs": [
        {
          "output_type": "execute_result",
          "data": {
            "text/plain": [
              "<bound method NDFrame.head of               isbn                                              title  \\\n",
              "0       0195153448                                Classical Mythology   \n",
              "1       0002005018                                       Clara Callan   \n",
              "2       0060973129                               Decision in Normandy   \n",
              "3       0374157065  Flu: The Story of the Great Influenza Pandemic...   \n",
              "4       0393045218                             The Mummies of Urumchi   \n",
              "...            ...                                                ...   \n",
              "271374  0440400988                         There's a Bat in Bunk Five   \n",
              "271375  0525447644                            From One to One Hundred   \n",
              "271376  006008667X  Lily Dale : The True Story of the Town that Ta...   \n",
              "271377  0192126040                        Republic (World's Classics)   \n",
              "271378  0767409752  A Guided Tour of Rene Descartes' Meditations o...   \n",
              "\n",
              "                      author  \n",
              "0         Mark P. O. Morford  \n",
              "1       Richard Bruce Wright  \n",
              "2               Carlo D'Este  \n",
              "3           Gina Bari Kolata  \n",
              "4            E. J. W. Barber  \n",
              "...                      ...  \n",
              "271374        Paula Danziger  \n",
              "271375            Teri Sloat  \n",
              "271376      Christine Wicker  \n",
              "271377                 Plato  \n",
              "271378   Christopher  Biffle  \n",
              "\n",
              "[271378 rows x 3 columns]>"
            ]
          },
          "metadata": {},
          "execution_count": 18
        }
      ]
    },
    {
      "cell_type": "code",
      "source": [],
      "metadata": {
        "id": "Cs9_XGI9NSsH"
      },
      "execution_count": 18,
      "outputs": []
    },
    {
      "cell_type": "code",
      "source": [
        "merged_data = pd.merge(df_books_clean, df_ratings, how = 'inner')"
      ],
      "metadata": {
        "id": "fVrj4ufZ9h5J"
      },
      "execution_count": 7,
      "outputs": []
    },
    {
      "cell_type": "code",
      "source": [
        "merged_data.head"
      ],
      "metadata": {
        "id": "e95f6Jyl9h0Z",
        "colab": {
          "base_uri": "https://localhost:8080/"
        },
        "outputId": "2f057a76-e7bc-4f9e-a8e7-e5940c024f8b"
      },
      "execution_count": 8,
      "outputs": [
        {
          "output_type": "execute_result",
          "data": {
            "text/plain": [
              "<bound method NDFrame.head of                isbn                                              title  \\\n",
              "0        0195153448                                Classical Mythology   \n",
              "1        0002005018                                       Clara Callan   \n",
              "2        0002005018                                       Clara Callan   \n",
              "3        0002005018                                       Clara Callan   \n",
              "4        0002005018                                       Clara Callan   \n",
              "...             ...                                                ...   \n",
              "1031169  0440400988                         There's a Bat in Bunk Five   \n",
              "1031170  0525447644                            From One to One Hundred   \n",
              "1031171  006008667X  Lily Dale : The True Story of the Town that Ta...   \n",
              "1031172  0192126040                        Republic (World's Classics)   \n",
              "1031173  0767409752  A Guided Tour of Rene Descartes' Meditations o...   \n",
              "\n",
              "                       author    user  rating  \n",
              "0          Mark P. O. Morford       2     0.0  \n",
              "1        Richard Bruce Wright       8     5.0  \n",
              "2        Richard Bruce Wright   11400     0.0  \n",
              "3        Richard Bruce Wright   11676     8.0  \n",
              "4        Richard Bruce Wright   41385     0.0  \n",
              "...                       ...     ...     ...  \n",
              "1031169        Paula Danziger  276463     7.0  \n",
              "1031170            Teri Sloat  276579     4.0  \n",
              "1031171      Christine Wicker  276680     0.0  \n",
              "1031172                 Plato  276680     0.0  \n",
              "1031173   Christopher  Biffle  276680     0.0  \n",
              "\n",
              "[1031174 rows x 5 columns]>"
            ]
          },
          "metadata": {},
          "execution_count": 8
        }
      ]
    },
    {
      "cell_type": "code",
      "source": [],
      "metadata": {
        "id": "C7bocngd9hx3"
      },
      "execution_count": null,
      "outputs": []
    },
    {
      "cell_type": "code",
      "source": [],
      "metadata": {
        "id": "UiVmiy529hvQ"
      },
      "execution_count": null,
      "outputs": []
    },
    {
      "cell_type": "code",
      "source": [],
      "metadata": {
        "id": "5e-ixjiQ9hqt"
      },
      "execution_count": null,
      "outputs": []
    },
    {
      "cell_type": "code",
      "source": [],
      "metadata": {
        "id": "ZfMdT66g9hjk"
      },
      "execution_count": null,
      "outputs": []
    },
    {
      "cell_type": "code",
      "source": [],
      "metadata": {
        "id": "gELbOODh9har"
      },
      "execution_count": null,
      "outputs": []
    },
    {
      "cell_type": "code",
      "source": [],
      "metadata": {
        "id": "QfKvHVRA9g5W"
      },
      "execution_count": null,
      "outputs": []
    },
    {
      "cell_type": "code",
      "execution_count": null,
      "metadata": {
        "id": "f5ZUd-L1SQz7"
      },
      "outputs": [],
      "source": [
        "# function to return recommended books - this will be tested\n",
        "def get_recommends(book = \"\"):\n",
        "\n",
        "\n",
        "  return recommended_books"
      ]
    },
    {
      "cell_type": "code",
      "execution_count": null,
      "metadata": {
        "id": "jd2SLCh8oxMh"
      },
      "outputs": [],
      "source": [
        "books = get_recommends(\"Where the Heart Is (Oprah's Book Club (Paperback))\")\n",
        "print(books)\n",
        "\n",
        "def test_book_recommendation():\n",
        "  test_pass = True\n",
        "  recommends = get_recommends(\"Where the Heart Is (Oprah's Book Club (Paperback))\")\n",
        "  if recommends[0] != \"Where the Heart Is (Oprah's Book Club (Paperback))\":\n",
        "    test_pass = False\n",
        "  recommended_books = [\"I'll Be Seeing You\", 'The Weight of Water', 'The Surgeon', 'I Know This Much Is True']\n",
        "  recommended_books_dist = [0.8, 0.77, 0.77, 0.77]\n",
        "  for i in range(2):\n",
        "    if recommends[1][i][0] not in recommended_books:\n",
        "      test_pass = False\n",
        "    if abs(recommends[1][i][1] - recommended_books_dist[i]) >= 0.05:\n",
        "      test_pass = False\n",
        "  if test_pass:\n",
        "    print(\"You passed the challenge! 🎉🎉🎉🎉🎉\")\n",
        "  else:\n",
        "    print(\"You haven't passed yet. Keep trying!\")\n",
        "\n",
        "test_book_recommendation()"
      ]
    }
  ],
  "metadata": {
    "colab": {
      "provenance": [],
      "gpuType": "T4",
      "include_colab_link": true
    },
    "kernelspec": {
      "display_name": "Python 3",
      "name": "python3"
    },
    "language_info": {
      "codemirror_mode": {
        "name": "ipython",
        "version": 3
      },
      "file_extension": ".py",
      "mimetype": "text/x-python",
      "name": "python",
      "nbconvert_exporter": "python",
      "pygments_lexer": "ipython3",
      "version": "3.6.5"
    },
    "accelerator": "GPU"
  },
  "nbformat": 4,
  "nbformat_minor": 0
}